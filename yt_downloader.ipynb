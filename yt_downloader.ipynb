{
 "cells": [
  {
   "cell_type": "code",
   "execution_count": 1,
   "id": "3413cc16",
   "metadata": {},
   "outputs": [
    {
     "name": "stdout",
     "output_type": "stream",
     "text": [
      "Collecting yt_dlp\n",
      "  Obtaining dependency information for yt_dlp from https://files.pythonhosted.org/packages/3f/b0/75194851f0b86dd6c207d8e1cb5625b62ae5ec254edda42bc2cb86306ba7/yt_dlp-2023.10.13-py2.py3-none-any.whl.metadata\n",
      "  Downloading yt_dlp-2023.10.13-py2.py3-none-any.whl.metadata (158 kB)\n",
      "     ---------------------------------------- 0.0/158.6 kB ? eta -:--:--\n",
      "     -- ------------------------------------- 10.2/158.6 kB ? eta -:--:--\n",
      "     -- ------------------------------------- 10.2/158.6 kB ? eta -:--:--\n",
      "     ------- ----------------------------- 30.7/158.6 kB 330.3 kB/s eta 0:00:01\n",
      "     ---------------- -------------------- 71.7/158.6 kB 438.9 kB/s eta 0:00:01\n",
      "     ---------------------------------- - 153.6/158.6 kB 766.6 kB/s eta 0:00:01\n",
      "     ------------------------------------ 158.6/158.6 kB 730.7 kB/s eta 0:00:00\n",
      "Collecting mutagen (from yt_dlp)\n",
      "  Obtaining dependency information for mutagen from https://files.pythonhosted.org/packages/b0/7a/620f945b96be1f6ee357d211d5bf74ab1b7fe72a9f1525aafbfe3aee6875/mutagen-1.47.0-py3-none-any.whl.metadata\n",
      "  Downloading mutagen-1.47.0-py3-none-any.whl.metadata (1.7 kB)\n",
      "Collecting pycryptodomex (from yt_dlp)\n",
      "  Obtaining dependency information for pycryptodomex from https://files.pythonhosted.org/packages/3c/a4/81675804055339db8e277f48bf0012b554a2322f15d000caebf7c8d3f011/pycryptodomex-3.19.0-cp35-abi3-win_amd64.whl.metadata\n",
      "  Downloading pycryptodomex-3.19.0-cp35-abi3-win_amd64.whl.metadata (3.4 kB)\n",
      "Collecting websockets (from yt_dlp)\n",
      "  Obtaining dependency information for websockets from https://files.pythonhosted.org/packages/d1/40/6b169cd1957476374f51f4486a3e85003149e62a14e6b78a958c2222337a/websockets-12.0-cp311-cp311-win_amd64.whl.metadata\n",
      "  Downloading websockets-12.0-cp311-cp311-win_amd64.whl.metadata (6.8 kB)\n",
      "Requirement already satisfied: certifi in c:\\users\\t vijaya balaji\\anaconda3\\lib\\site-packages (from yt_dlp) (2023.7.22)\n",
      "Collecting brotli (from yt_dlp)\n",
      "  Obtaining dependency information for brotli from https://files.pythonhosted.org/packages/02/8a/fece0ee1057643cb2a5bbf59682de13f1725f8482b2c057d4e799d7ade75/Brotli-1.1.0-cp311-cp311-win_amd64.whl.metadata\n",
      "  Downloading Brotli-1.1.0-cp311-cp311-win_amd64.whl.metadata (5.6 kB)\n",
      "Downloading yt_dlp-2023.10.13-py2.py3-none-any.whl (3.1 MB)\n",
      "   ---------------------------------------- 0.0/3.1 MB ? eta -:--:--\n",
      "   - -------------------------------------- 0.1/3.1 MB 8.9 MB/s eta 0:00:01\n",
      "   --- ------------------------------------ 0.3/3.1 MB 3.0 MB/s eta 0:00:01\n",
      "   ---- ----------------------------------- 0.3/3.1 MB 2.3 MB/s eta 0:00:02\n",
      "   ----- ---------------------------------- 0.4/3.1 MB 2.8 MB/s eta 0:00:01\n",
      "   ------- -------------------------------- 0.6/3.1 MB 2.6 MB/s eta 0:00:01\n",
      "   -------- ------------------------------- 0.7/3.1 MB 2.3 MB/s eta 0:00:02\n",
      "   --------- ------------------------------ 0.7/3.1 MB 2.2 MB/s eta 0:00:02\n",
      "   ----------- ---------------------------- 0.9/3.1 MB 2.4 MB/s eta 0:00:01\n",
      "   ------------- -------------------------- 1.0/3.1 MB 2.4 MB/s eta 0:00:01\n",
      "   ------------- -------------------------- 1.1/3.1 MB 2.2 MB/s eta 0:00:01\n",
      "   --------------- ------------------------ 1.2/3.1 MB 2.4 MB/s eta 0:00:01\n",
      "   ---------------- ----------------------- 1.3/3.1 MB 2.4 MB/s eta 0:00:01\n",
      "   ----------------- ---------------------- 1.4/3.1 MB 2.2 MB/s eta 0:00:01\n",
      "   ------------------- -------------------- 1.5/3.1 MB 2.3 MB/s eta 0:00:01\n",
      "   --------------------- ------------------ 1.6/3.1 MB 2.3 MB/s eta 0:00:01\n",
      "   --------------------- ------------------ 1.7/3.1 MB 2.3 MB/s eta 0:00:01\n",
      "   ----------------------- ---------------- 1.8/3.1 MB 2.3 MB/s eta 0:00:01\n",
      "   ------------------------ --------------- 1.9/3.1 MB 2.3 MB/s eta 0:00:01\n",
      "   ------------------------- -------------- 2.0/3.1 MB 2.3 MB/s eta 0:00:01\n",
      "   -------------------------- ------------- 2.0/3.1 MB 2.2 MB/s eta 0:00:01\n",
      "   --------------------------- ------------ 2.1/3.1 MB 2.2 MB/s eta 0:00:01\n",
      "   ----------------------------- ---------- 2.3/3.1 MB 2.2 MB/s eta 0:00:01\n",
      "   ------------------------------- -------- 2.4/3.1 MB 2.2 MB/s eta 0:00:01\n",
      "   ------------------------------- -------- 2.4/3.1 MB 2.2 MB/s eta 0:00:01\n",
      "   --------------------------------- ------ 2.6/3.1 MB 2.2 MB/s eta 0:00:01\n",
      "   ----------------------------------- ---- 2.7/3.1 MB 2.2 MB/s eta 0:00:01\n",
      "   ----------------------------------- ---- 2.8/3.1 MB 2.2 MB/s eta 0:00:01\n",
      "   ------------------------------------- -- 2.9/3.1 MB 2.2 MB/s eta 0:00:01\n",
      "   ---------------------------------------  3.0/3.1 MB 2.2 MB/s eta 0:00:01\n",
      "   ---------------------------------------  3.1/3.1 MB 2.2 MB/s eta 0:00:01\n",
      "   ---------------------------------------- 3.1/3.1 MB 2.2 MB/s eta 0:00:00\n",
      "Downloading Brotli-1.1.0-cp311-cp311-win_amd64.whl (357 kB)\n",
      "   ---------------------------------------- 0.0/357.3 kB ? eta -:--:--\n",
      "   ---------------- ----------------------- 143.4/357.3 kB 8.3 MB/s eta 0:00:01\n",
      "   -------------------------------- ------- 286.7/357.3 kB 3.5 MB/s eta 0:00:01\n",
      "   -------------------------------------- - 348.2/357.3 kB 2.4 MB/s eta 0:00:01\n",
      "   ---------------------------------------- 357.3/357.3 kB 2.2 MB/s eta 0:00:00\n",
      "Downloading mutagen-1.47.0-py3-none-any.whl (194 kB)\n",
      "   ---------------------------------------- 0.0/194.4 kB ? eta -:--:--\n",
      "   ----------------------------- ---------- 143.4/194.4 kB ? eta -:--:--\n",
      "   ---------------------------------------- 194.4/194.4 kB 2.9 MB/s eta 0:00:00\n",
      "Downloading pycryptodomex-3.19.0-cp35-abi3-win_amd64.whl (1.7 MB)\n",
      "   ---------------------------------------- 0.0/1.7 MB ? eta -:--:--\n",
      "   --- ------------------------------------ 0.1/1.7 MB 8.3 MB/s eta 0:00:01\n",
      "   ------ --------------------------------- 0.3/1.7 MB 3.7 MB/s eta 0:00:01\n",
      "   -------- ------------------------------- 0.4/1.7 MB 2.6 MB/s eta 0:00:01\n",
      "   ---------- ----------------------------- 0.5/1.7 MB 2.9 MB/s eta 0:00:01\n",
      "   -------------- ------------------------- 0.6/1.7 MB 2.8 MB/s eta 0:00:01\n",
      "   ---------------- ----------------------- 0.7/1.7 MB 2.6 MB/s eta 0:00:01\n",
      "   ----------------- ---------------------- 0.8/1.7 MB 2.7 MB/s eta 0:00:01\n",
      "   --------------------- ------------------ 0.9/1.7 MB 2.5 MB/s eta 0:00:01\n",
      "   ------------------------ --------------- 1.1/1.7 MB 2.5 MB/s eta 0:00:01\n",
      "   ------------------------- -------------- 1.1/1.7 MB 2.3 MB/s eta 0:00:01\n",
      "   --------------------------- ------------ 1.2/1.7 MB 2.5 MB/s eta 0:00:01\n",
      "   ------------------------------- -------- 1.4/1.7 MB 2.5 MB/s eta 0:00:01\n",
      "   -------------------------------- ------- 1.4/1.7 MB 2.3 MB/s eta 0:00:01\n",
      "   ---------------------------------- ----- 1.5/1.7 MB 2.3 MB/s eta 0:00:01\n",
      "   ------------------------------------- -- 1.6/1.7 MB 2.4 MB/s eta 0:00:01\n",
      "   ---------------------------------------  1.7/1.7 MB 2.3 MB/s eta 0:00:01\n",
      "   ---------------------------------------- 1.7/1.7 MB 2.3 MB/s eta 0:00:00\n",
      "Downloading websockets-12.0-cp311-cp311-win_amd64.whl (124 kB)\n",
      "   ---------------------------------------- 0.0/125.0 kB ? eta -:--:--\n",
      "   ---------------------------------------- 125.0/125.0 kB 7.2 MB/s eta 0:00:00\n",
      "Installing collected packages: brotli, websockets, pycryptodomex, mutagen, yt_dlp\n",
      "Successfully installed brotli-1.1.0 mutagen-1.47.0 pycryptodomex-3.19.0 websockets-12.0 yt_dlp-2023.10.13\n"
     ]
    }
   ],
   "source": [
    "!pip install yt_dlp\n"
   ]
  },
  {
   "cell_type": "markdown",
   "id": "8615a070",
   "metadata": {},
   "source": [
    "# yt to mp4(video)"
   ]
  },
  {
   "cell_type": "code",
   "execution_count": 2,
   "id": "3e86c2db",
   "metadata": {},
   "outputs": [
    {
     "name": "stdout",
     "output_type": "stream",
     "text": [
      "enter urlhttps://www.youtube.com/watch?v=hNi9M6JOnYw\n",
      "[youtube] Extracting URL: https://www.youtube.com/watch?v=hNi9M6JOnYw\n",
      "[youtube] hNi9M6JOnYw: Downloading webpage\n",
      "[youtube] hNi9M6JOnYw: Downloading ios player API JSON\n",
      "[youtube] hNi9M6JOnYw: Downloading android player API JSON\n",
      "[youtube] hNi9M6JOnYw: Downloading m3u8 information\n",
      "[info] hNi9M6JOnYw: Downloading 1 format(s): 313+251\n",
      "[download] Destination: (AOT Hardstyle) My Soldiers Rage - Hiroyuki Sawano (Maul Bootleg) [hNi9M6JOnYw].f313.webm\n",
      "[download] 100% of  162.49MiB in 00:01:45 at 1.53MiB/s   \n",
      "[download] Destination: (AOT Hardstyle) My Soldiers Rage - Hiroyuki Sawano (Maul Bootleg) [hNi9M6JOnYw].f251.webm\n",
      "[download] 100% of    2.70MiB in 00:00:00 at 3.64MiB/s   \n",
      "[Merger] Merging formats into \"(AOT Hardstyle) My Soldiers Rage - Hiroyuki Sawano (Maul Bootleg) [hNi9M6JOnYw].webm\"\n",
      "Deleting original file (AOT Hardstyle) My Soldiers Rage - Hiroyuki Sawano (Maul Bootleg) [hNi9M6JOnYw].f313.webm (pass -k to keep)\n",
      "Deleting original file (AOT Hardstyle) My Soldiers Rage - Hiroyuki Sawano (Maul Bootleg) [hNi9M6JOnYw].f251.webm (pass -k to keep)\n",
      "download sucess\n"
     ]
    }
   ],
   "source": [
    "import yt_dlp\n",
    "\n",
    "url = input(\"enter url\")\n",
    "ydl_opts = {}\n",
    "with yt_dlp.YoutubeDL(ydl_opts) as ydl:\n",
    "    ydl.download([url])\n",
    "    \n",
    "print(\"download sucess\")    "
   ]
  },
  {
   "cell_type": "markdown",
   "id": "e2f3f27d",
   "metadata": {},
   "source": [
    "# yt to mp3(audio)"
   ]
  },
  {
   "cell_type": "code",
   "execution_count": 40,
   "id": "84887ed0",
   "metadata": {},
   "outputs": [
    {
     "name": "stdout",
     "output_type": "stream",
     "text": [
      "Enter URL: https://www.youtube.com/watch?v=xkTK3DH5aJ8\n",
      "[youtube] Extracting URL: https://www.youtube.com/watch?v=xkTK3DH5aJ8\n",
      "[youtube] xkTK3DH5aJ8: Downloading webpage\n",
      "[youtube] xkTK3DH5aJ8: Downloading ios player API JSON\n",
      "[youtube] xkTK3DH5aJ8: Downloading android player API JSON\n",
      "[youtube] xkTK3DH5aJ8: Downloading m3u8 information\n",
      "[info] xkTK3DH5aJ8: Downloading 1 format(s): 251\n",
      "[download] Destination: C:\\Users\\T VIJAYA BALAJI\\Desktop\\yt_downloads\\Avicii - The Nights (lyrics).webm\n",
      "[download] 100% of    2.13MiB in 00:00:00 at 6.18MiB/s   \n",
      "[VideoConvertor] Converting video from webm to mp3; Destination: C:\\Users\\T VIJAYA BALAJI\\Desktop\\yt_downloads\\Avicii - The Nights (lyrics).mp3\n",
      "Deleting original file C:\\Users\\T VIJAYA BALAJI\\Desktop\\yt_downloads\\Avicii - The Nights (lyrics).webm (pass -k to keep)\n",
      "Download success\n"
     ]
    }
   ],
   "source": [
    "import yt_dlp\n",
    "\n",
    "url = input(\"Enter URL: \")\n",
    "output_directory = \"C:\\\\Users\\\\T VIJAYA BALAJI\\\\Desktop\\\\yt_downloads\"  \n",
    "\n",
    "ydl_opts = {\n",
    "    'format': 'bestaudio/best',\n",
    "    'postprocessors': [{\n",
    "        'key': 'FFmpegVideoConvertor',\n",
    "        'preferedformat': 'mp3',\n",
    "    }],\n",
    "    'outtmpl': f'{output_directory}/%(title)s.%(ext)s',\n",
    "}\n",
    "\n",
    "with yt_dlp.YoutubeDL(ydl_opts) as ydl:\n",
    "    ydl.download([url])\n",
    "\n",
    "print(\"Download success\")\n"
   ]
  }
 ],
 "metadata": {
  "kernelspec": {
   "display_name": "Python 3 (ipykernel)",
   "language": "python",
   "name": "python3"
  },
  "language_info": {
   "codemirror_mode": {
    "name": "ipython",
    "version": 3
   },
   "file_extension": ".py",
   "mimetype": "text/x-python",
   "name": "python",
   "nbconvert_exporter": "python",
   "pygments_lexer": "ipython3",
   "version": "3.11.4"
  }
 },
 "nbformat": 4,
 "nbformat_minor": 5
}
